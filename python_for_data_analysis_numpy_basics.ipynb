{
 "cells": [
  {
   "cell_type": "code",
   "execution_count": 17,
   "id": "70e9eec8-96e9-4410-831f-5a8bb6354be2",
   "metadata": {},
   "outputs": [
    {
     "name": "stdout",
     "output_type": "stream",
     "text": [
      "[1 2 3 4 5]\n",
      "int64\n",
      "float32\n",
      "[1. 2. 3. 4. 5.]\n",
      "[b'1.25' b'-9.6' b'42']\n",
      "|S4\n",
      "[ 1.25 -9.6  42.  ]\n",
      "float64\n",
      "[0 1 2 3 4 5 6 7 8 9]\n",
      "int64\n",
      "[0. 1. 2. 3. 4. 5. 6. 7. 8. 9.]\n",
      "float32\n",
      "[0 0 0 0 0 0 0 0]\n",
      "uint32\n"
     ]
    }
   ],
   "source": [
    "# Init \n",
    "\n",
    "import numpy as np\n",
    "\n",
    "arr1 = np.array([1,2,3,4,5])\n",
    "print(arr1)\n",
    "print(arr1.dtype)\n",
    "\n",
    "float_arr1 = arr1.astype(np.float32)\n",
    "print(float_arr1.dtype)\n",
    "print(float_arr1)\n",
    "\n",
    "str_arr2 = np.array([\"1.25\", \"-9.6\", \"42\"], dtype=np.string_)\n",
    "print(str_arr2)\n",
    "print(str_arr2.dtype)\n",
    "\n",
    "str_arr2_to_float = str_arr2.astype(float)\n",
    "print(str_arr2_to_float)\n",
    "print(str_arr2_to_float.dtype)\n",
    "\n",
    "int_arr3_range = np.arange(10)\n",
    "print(int_arr3_range)\n",
    "print(int_arr3_range.dtype)\n",
    "\n",
    "int_arr3_as_float = int_arr3_range.astype(float_arr1.dtype)\n",
    "print(int_arr3_as_float)\n",
    "print(int_arr3_as_float.dtype)\n",
    "\n",
    "zeros_uint32 = np.zeros(8, dtype=\"u4\")\n",
    "print(zeros_uint32)\n",
    "print(zeros_uint32.dtype)"
   ]
  },
  {
   "cell_type": "code",
   "execution_count": 24,
   "id": "6917d0db-8792-4693-a862-6f920a0b2874",
   "metadata": {},
   "outputs": [
    {
     "name": "stdout",
     "output_type": "stream",
     "text": [
      "[[1. 2. 3.]\n",
      " [4. 5. 6.]]\n",
      "float64\n",
      "[[ 1.  4.  9.]\n",
      " [16. 25. 36.]]\n",
      "[[0. 0. 0.]\n",
      " [0. 0. 0.]]\n",
      "[[1.         0.5        0.33333333]\n",
      " [0.25       0.2        0.16666667]]\n",
      "[[False  True False]\n",
      " [ True False  True]]\n"
     ]
    }
   ],
   "source": [
    "# Arithmetic operations\n",
    "\n",
    "arr4 = np.array([[1., 2., 3.], [4., 5., 6.]])\n",
    "print(arr4)\n",
    "print(arr4.dtype)\n",
    "\n",
    "print(arr4 * arr4)\n",
    "print(arr4 - arr4)\n",
    "print(1 / arr4)\n",
    "\n",
    "arr5 = np.array([[0., 4., 1.], [7., 2., 12.]])\n",
    "\n",
    "print(arr5 > arr4)"
   ]
  },
  {
   "cell_type": "code",
   "execution_count": 47,
   "id": "4a8503bc-b38b-4ff0-836a-3c1ecd9df1b5",
   "metadata": {},
   "outputs": [
    {
     "name": "stdout",
     "output_type": "stream",
     "text": [
      "[0 1 2 3 4 5 6 7 8 9]\n",
      "[5 6 7]\n",
      "[ 0  1  2  3  4  5 69  7  8  9]\n",
      "[ 5 69  7]\n",
      "[0 1 2 3 4 5 6 7 8 9]\n",
      "[5 6 7]\n",
      "[ 5 69  7]\n",
      "3\n",
      "3\n",
      "[[[ 1  2  3]\n",
      "  [ 4  5  6]]\n",
      "\n",
      " [[ 7  8  9]\n",
      "  [10 11 12]]]\n",
      "[[1 2 3]\n",
      " [4 5 6]]\n",
      "[[[69 69 69]\n",
      "  [69 69 69]]\n",
      "\n",
      " [[ 7  8  9]\n",
      "  [10 11 12]]]\n",
      "[[[ 1  2  3]\n",
      "  [ 4  5  6]]\n",
      "\n",
      " [[ 7  8  9]\n",
      "  [10 11 12]]]\n",
      "[1 2 3]\n"
     ]
    }
   ],
   "source": [
    "# Indexing and slicing\n",
    "\n",
    "arr6 = np.arange(10)\n",
    "arr6_slice = arr6[5:8]\n",
    "\n",
    "print(arr6)\n",
    "print(arr6_slice)\n",
    "\n",
    "arr6[6] = 69\n",
    "\n",
    "print(arr6)\n",
    "print(arr6_slice)\n",
    "\n",
    "arr6_slice_copy = arr6[5:8].copy()\n",
    "\n",
    "arr6[6] = 6\n",
    "\n",
    "print(arr6)\n",
    "print(arr6_slice)\n",
    "print(arr6_slice_copy)\n",
    "\n",
    "arr7_2_by_3 = np.array([[1,2,3], [4,5,6], [7,8,9]])\n",
    "print(arr7_2_by_3[0][2])\n",
    "print(arr7_2_by_3[0, 2])\n",
    "\n",
    "arr8_2_by_2_by_3 = np.array([[[1,2,3], [4,5,6]], [[7,8,9], [10,11,12]]])\n",
    "print(arr8_2_by_2_by_3)\n",
    "print(arr8_2_by_2_by_3[0])\n",
    "\n",
    "arr8_0_old_values = arr8_2_by_2_by_3[0].copy()\n",
    "\n",
    "arr8_2_by_2_by_3[0] = 69\n",
    "print(arr8_2_by_2_by_3)\n",
    "\n",
    "arr8_2_by_2_by_3[0] = arr8_0_old_values\n",
    "print(arr8_2_by_2_by_3)\n",
    "print(arr8_2_by_2_by_3[0, 0])\n"
   ]
  },
  {
   "cell_type": "code",
   "execution_count": 50,
   "id": "7cf91d0e-833d-4920-8a11-162793a72cfb",
   "metadata": {},
   "outputs": [
    {
     "name": "stdout",
     "output_type": "stream",
     "text": [
      "[[1 2 3]\n",
      " [4 5 6]]\n",
      "[[2 3]\n",
      " [5 6]]\n"
     ]
    }
   ],
   "source": [
    "# Indexing with slices\n",
    "\n",
    "arr7_2_by_3 = np.array([[1,2,3], [4,5,6], [7,8,9]])\n",
    "\n",
    "print(arr7_2_by_3[:2])\n",
    "print(arr7_2_by_3[:2, 1:])"
   ]
  },
  {
   "cell_type": "code",
   "execution_count": null,
   "id": "1a809d61-923d-40db-ad2e-7cdc869c0433",
   "metadata": {},
   "outputs": [],
   "source": []
  }
 ],
 "metadata": {
  "kernelspec": {
   "display_name": "Python 3 (ipykernel)",
   "language": "python",
   "name": "python3"
  },
  "language_info": {
   "codemirror_mode": {
    "name": "ipython",
    "version": 3
   },
   "file_extension": ".py",
   "mimetype": "text/x-python",
   "name": "python",
   "nbconvert_exporter": "python",
   "pygments_lexer": "ipython3",
   "version": "3.10.12"
  }
 },
 "nbformat": 4,
 "nbformat_minor": 5
}
